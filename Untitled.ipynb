{
 "cells": [
  {
   "cell_type": "code",
   "execution_count": null,
   "id": "df8dd06c-8083-4d38-81ef-465b921a7730",
   "metadata": {},
   "outputs": [],
   "source": [
    "from sagemaker.predictor import retrieve_default\n",
    "endpoint_name = \"jumpstart-dft-meta-textgeneration-l-20240421-115227\"\n",
    "predictor = retrieve_default(endpoint_name)\n",
    "payload = {\n",
    "    \"inputs\": \"<|begin_of_text|><|start_header_id|>user<|end_header_id|>\\n\\nwhat is the recipe of mayonnaise?<|eot_id|><|start_header_id|>assistant<|end_header_id|>\\n\\n\",\n",
    "    \"parameters\": {\n",
    "        \"max_new_tokens\": 256,\n",
    "        \"top_p\": 0.9,\n",
    "        \"temperature\": 0.6,\n",
    "        \"stop\": \"<|eot_id|>\"\n",
    "    }\n",
    "}\n",
    "response = predictor.predict(payload)\n",
    "print(response)\n",
    "payload = {\n",
    "    \"inputs\": \"<|begin_of_text|><|start_header_id|>user<|end_header_id|>\\n\\nI am going to Paris, what should I see?<|eot_id|><|start_header_id|>assistant<|end_header_id|>\\n\\nParis, the capital of France, is known for its stunning architecture, art museums, historical landmarks, and romantic atmosphere. Here are some of the top attractions to see in Paris:\\n\\n1. The Eiffel Tower: The iconic Eiffel Tower is one of the most recognizable landmarks in the world and offers breathtaking views of the city.\\n2. The Louvre Museum: The Louvre is one of the world's largest and most famous museums, housing an impressive collection of art and artifacts, including the Mona Lisa.\\n3. Notre-Dame Cathedral: This beautiful cathedral is one of the most famous landmarks in Paris and is known for its Gothic architecture and stunning stained glass windows.\\n\\nThese are just a few of the many attractions that Paris has to offer. With so much to see and do, it's no wonder that Paris is one of the most popular tourist destinations in the world.<|eot_id|><|start_header_id|>user<|end_header_id|>\\n\\nWhat is so great about #1?<|eot_id|><|start_header_id|>assistant<|end_header_id|>\\n\\n\",\n",
    "    \"parameters\": {\n",
    "        \"max_new_tokens\": 256,\n",
    "        \"top_p\": 0.9,\n",
    "        \"temperature\": 0.6,\n",
    "        \"stop\": \"<|eot_id|>\"\n",
    "    }\n",
    "}\n",
    "response = predictor.predict(payload)\n",
    "print(response)\n",
    "payload = {\n",
    "    \"inputs\": \"<|begin_of_text|><|start_header_id|>system<|end_header_id|>\\n\\nAlways answer with Haiku<|eot_id|><|start_header_id|>user<|end_header_id|>\\n\\nI am going to Paris, what should I see?<|eot_id|><|start_header_id|>assistant<|end_header_id|>\\n\\n\",\n",
    "    \"parameters\": {\n",
    "        \"max_new_tokens\": 256,\n",
    "        \"top_p\": 0.9,\n",
    "        \"temperature\": 0.6,\n",
    "        \"stop\": \"<|eot_id|>\"\n",
    "    }\n",
    "}\n",
    "response = predictor.predict(payload)\n",
    "print(response)\n",
    "payload = {\n",
    "    \"inputs\": \"<|begin_of_text|><|start_header_id|>system<|end_header_id|>\\n\\nAlways answer with emojis<|eot_id|><|start_header_id|>user<|end_header_id|>\\n\\nHow to go from Beijing to NY?<|eot_id|><|start_header_id|>assistant<|end_header_id|>\\n\\n\",\n",
    "    \"parameters\": {\n",
    "        \"max_new_tokens\": 256,\n",
    "        \"top_p\": 0.9,\n",
    "        \"temperature\": 0.6,\n",
    "        \"stop\": \"<|eot_id|>\"\n",
    "    }\n",
    "}\n",
    "response = predictor.predict(payload)\n",
    "print(response)"
   ]
  }
 ],
 "metadata": {
  "kernelspec": {
   "display_name": "conda_python3",
   "language": "python",
   "name": "conda_python3"
  },
  "language_info": {
   "codemirror_mode": {
    "name": "ipython",
    "version": 3
   },
   "file_extension": ".py",
   "mimetype": "text/x-python",
   "name": "python",
   "nbconvert_exporter": "python",
   "pygments_lexer": "ipython3",
   "version": "3.10.14"
  }
 },
 "nbformat": 4,
 "nbformat_minor": 5
}
